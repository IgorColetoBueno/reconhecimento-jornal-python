{
 "cells": [
  {
   "cell_type": "code",
   "execution_count": 213,
   "metadata": {
    "scrolled": false
   },
   "outputs": [],
   "source": [
    "\n",
    "import matplotlib.pyplot as plt\n",
    "import cv2\n",
    "import numpy as np\n",
    "import pytesseract\n",
    "\n",
    "try:\n",
    "    from PIL import Image\n",
    "except ImportError:\n",
    "    import Image\n",
    "\n",
    "\n",
    "\n",
    "imagens = ['4.png']\n",
    "\n",
    "def marcar(small, rgb):\n",
    "        #threshold the image\n",
    "        _, bw = cv2.threshold(small, 0.0, 255.0, cv2.THRESH_BINARY_INV | cv2.THRESH_OTSU)\n",
    "        bw = cv2.dilate(bw, None, iterations=2)\n",
    "        # get horizontal mask of large size since text are horizontal components\n",
    "        kernel = cv2.getStructuringElement(cv2.MORPH_RECT, (20, 1))\n",
    "        connected = cv2.morphologyEx(bw, cv2.MORPH_CLOSE, kernel)\n",
    "\n",
    "        # find all the contours\n",
    "        contours, hierarchy,=cv2.findContours(connected.copy(),cv2.RETR_EXTERNAL, cv2.CHAIN_APPROX_NONE)\n",
    "        \n",
    "        #Segment the text lines\n",
    "        areaImage = rgb.shape[0]*rgb.shape[1]\n",
    "        \n",
    "        for idx in range(len(contours)):\n",
    "            x, y, w, h = cv2.boundingRect(contours[idx])            \n",
    "        \n",
    "            areaSelecao = cv2.contourArea(contours[idx])\n",
    "            \n",
    "            percentual = (areaSelecao*100)/areaImage    \n",
    "            #print (areaSelecao)\n",
    "            #print(percentual)\n",
    "            \n",
    "            if percentual > 50 or percentual < 0.5:\n",
    "                continue\n",
    "            \n",
    "            cv2.rectangle(rgb, (x, y), (x+w, y+h), (0, 255, 0), 3)\n",
    "            imagemLeitura = rgb[y:(y + h), x:(w + x)]\n",
    "            # print(pytesseract.image_to_string(imagemLeitura))\n",
    "            cv2.imwrite(str(idx) + '_segmento.png' , imagemLeitura)\n",
    "\n",
    "for img_ref in imagens:\n",
    "    # Executando tudo\n",
    "    rgb = cv2.imread(img_ref)\n",
    "    small = cv2.cvtColor(rgb, cv2.COLOR_BGR2GRAY)\n",
    "\n",
    "    marcar(small, rgb)\n",
    "\n",
    "    \n",
    "        \n",
    "\n"
   ]
  },
  {
   "cell_type": "code",
   "execution_count": null,
   "metadata": {},
   "outputs": [],
   "source": []
  }
 ],
 "metadata": {
  "kernelspec": {
   "display_name": "Python 3",
   "language": "python",
   "name": "python3"
  },
  "language_info": {
   "codemirror_mode": {
    "name": "ipython",
    "version": 3
   },
   "file_extension": ".py",
   "mimetype": "text/x-python",
   "name": "python",
   "nbconvert_exporter": "python",
   "pygments_lexer": "ipython3",
   "version": "3.6.7"
  }
 },
 "nbformat": 4,
 "nbformat_minor": 2
}
